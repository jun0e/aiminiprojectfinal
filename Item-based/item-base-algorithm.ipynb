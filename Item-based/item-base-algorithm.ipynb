{
 "cells": [
  {
   "cell_type": "code",
   "execution_count": 1,
   "id": "2c9eef83",
   "metadata": {},
   "outputs": [],
   "source": [
    "import os\n",
    "import numpy as np\n",
    "import pandas as pd\n",
    "import matplotlib.pyplot as plt\n",
    "from scipy.sparse import csr_matrix\n",
    "from sklearn.neighbors import NearestNeighbors"
   ]
  },
  {
   "cell_type": "code",
   "execution_count": 2,
   "id": "77fdb68c",
   "metadata": {},
   "outputs": [
    {
     "name": "stderr",
     "output_type": "stream",
     "text": [
      "C:\\Users\\vuhoa\\AppData\\Local\\Programs\\Python\\Python39\\lib\\site-packages\\IPython\\core\\interactiveshell.py:3169: DtypeWarning: Columns (16) have mixed types.Specify dtype option on import or set low_memory=False.\n",
      "  has_raised = await self.run_ast_nodes(code_ast.body, cell_name,\n"
     ]
    }
   ],
   "source": [
    "df2 = pd.read_csv('../movies-data/combine_data.csv')"
   ]
  },
  {
   "cell_type": "code",
   "execution_count": 3,
   "id": "3a8a8ba8",
   "metadata": {},
   "outputs": [
    {
     "data": {
      "text/plain": "(10901225, 3)"
     },
     "execution_count": 3,
     "metadata": {},
     "output_type": "execute_result"
    }
   ],
   "source": [
    "refined_dataset = df2.groupby(by=['userId','title'], as_index=False).agg({\"rating\":\"mean\"})\n",
    "\n",
    "refined_dataset.head()\n",
    "refined_dataset.shape"
   ]
  },
  {
   "cell_type": "code",
   "execution_count": 4,
   "outputs": [
    {
     "data": {
      "text/plain": "<bound method DataFrame.info of           userId                                              title  rating\n0              1               Confession of a Child of the Century     4.0\n1              1                                      Fools Rush In     4.0\n2              1                                     License to Wed     4.0\n3              1                                       Rocky Balboa     5.0\n4              1  Shriek If You Know What I Did Last Friday the ...     4.0\n...          ...                                                ...     ...\n10901220  270896                                             Waiter     4.0\n10901221  270896                                   We Own the Night     3.0\n10901222  270896                                  Who Killed Bambi?     3.0\n10901223  270896                                         Will Penny     3.0\n10901224  270896                                 Young and Innocent     5.0\n\n[10901225 rows x 3 columns]>"
     },
     "execution_count": 4,
     "metadata": {},
     "output_type": "execute_result"
    }
   ],
   "source": [
    "refined_dataset.info"
   ],
   "metadata": {
    "collapsed": false,
    "pycharm": {
     "name": "#%%\n"
    }
   }
  },
  {
   "cell_type": "code",
   "execution_count": 5,
   "id": "b64788e6",
   "metadata": {},
   "outputs": [
    {
     "ename": "MemoryError",
     "evalue": "Unable to allocate 11.1 GiB for an array with shape (265458, 5591) and data type float64",
     "output_type": "error",
     "traceback": [
      "\u001B[1;31m---------------------------------------------------------------------------\u001B[0m",
      "\u001B[1;31mMemoryError\u001B[0m                               Traceback (most recent call last)",
      "\u001B[1;32m~\\AppData\\Local\\Temp/ipykernel_17356/2065003794.py\u001B[0m in \u001B[0;36m<module>\u001B[1;34m\u001B[0m\n\u001B[0;32m      1\u001B[0m \u001B[1;31m# pivot and create movie-user matrix\u001B[0m\u001B[1;33m\u001B[0m\u001B[1;33m\u001B[0m\u001B[0m\n\u001B[1;32m----> 2\u001B[1;33m df = refined_dataset.pivot(\n\u001B[0m\u001B[0;32m      3\u001B[0m      \u001B[0mindex\u001B[0m\u001B[1;33m=\u001B[0m\u001B[1;34m'title'\u001B[0m\u001B[1;33m,\u001B[0m\u001B[1;33m\u001B[0m\u001B[1;33m\u001B[0m\u001B[0m\n\u001B[0;32m      4\u001B[0m    \u001B[0mcolumns\u001B[0m\u001B[1;33m=\u001B[0m\u001B[1;34m'userId'\u001B[0m\u001B[1;33m,\u001B[0m\u001B[1;33m\u001B[0m\u001B[1;33m\u001B[0m\u001B[0m\n\u001B[0;32m      5\u001B[0m       values='rating').fillna(0)\n",
      "\u001B[1;32m~\\AppData\\Local\\Programs\\Python\\Python39\\lib\\site-packages\\pandas\\core\\frame.py\u001B[0m in \u001B[0;36mfillna\u001B[1;34m(self, value, method, axis, inplace, limit, downcast)\u001B[0m\n\u001B[0;32m   4457\u001B[0m         \u001B[0mdowncast\u001B[0m\u001B[1;33m=\u001B[0m\u001B[1;32mNone\u001B[0m\u001B[1;33m,\u001B[0m\u001B[1;33m\u001B[0m\u001B[1;33m\u001B[0m\u001B[0m\n\u001B[0;32m   4458\u001B[0m     ) -> Optional[DataFrame]:\n\u001B[1;32m-> 4459\u001B[1;33m         return super().fillna(\n\u001B[0m\u001B[0;32m   4460\u001B[0m             \u001B[0mvalue\u001B[0m\u001B[1;33m=\u001B[0m\u001B[0mvalue\u001B[0m\u001B[1;33m,\u001B[0m\u001B[1;33m\u001B[0m\u001B[1;33m\u001B[0m\u001B[0m\n\u001B[0;32m   4461\u001B[0m             \u001B[0mmethod\u001B[0m\u001B[1;33m=\u001B[0m\u001B[0mmethod\u001B[0m\u001B[1;33m,\u001B[0m\u001B[1;33m\u001B[0m\u001B[1;33m\u001B[0m\u001B[0m\n",
      "\u001B[1;32m~\\AppData\\Local\\Programs\\Python\\Python39\\lib\\site-packages\\pandas\\core\\generic.py\u001B[0m in \u001B[0;36mfillna\u001B[1;34m(self, value, method, axis, inplace, limit, downcast)\u001B[0m\n\u001B[0;32m   6422\u001B[0m \u001B[1;33m\u001B[0m\u001B[0m\n\u001B[0;32m   6423\u001B[0m             \u001B[1;32melif\u001B[0m \u001B[1;32mnot\u001B[0m \u001B[0mis_list_like\u001B[0m\u001B[1;33m(\u001B[0m\u001B[0mvalue\u001B[0m\u001B[1;33m)\u001B[0m\u001B[1;33m:\u001B[0m\u001B[1;33m\u001B[0m\u001B[1;33m\u001B[0m\u001B[0m\n\u001B[1;32m-> 6424\u001B[1;33m                 new_data = self._mgr.fillna(\n\u001B[0m\u001B[0;32m   6425\u001B[0m                     \u001B[0mvalue\u001B[0m\u001B[1;33m=\u001B[0m\u001B[0mvalue\u001B[0m\u001B[1;33m,\u001B[0m \u001B[0mlimit\u001B[0m\u001B[1;33m=\u001B[0m\u001B[0mlimit\u001B[0m\u001B[1;33m,\u001B[0m \u001B[0minplace\u001B[0m\u001B[1;33m=\u001B[0m\u001B[0minplace\u001B[0m\u001B[1;33m,\u001B[0m \u001B[0mdowncast\u001B[0m\u001B[1;33m=\u001B[0m\u001B[0mdowncast\u001B[0m\u001B[1;33m\u001B[0m\u001B[1;33m\u001B[0m\u001B[0m\n\u001B[0;32m   6426\u001B[0m                 )\n",
      "\u001B[1;32m~\\AppData\\Local\\Programs\\Python\\Python39\\lib\\site-packages\\pandas\\core\\internals\\managers.py\u001B[0m in \u001B[0;36mfillna\u001B[1;34m(self, value, limit, inplace, downcast)\u001B[0m\n\u001B[0;32m    619\u001B[0m \u001B[1;33m\u001B[0m\u001B[0m\n\u001B[0;32m    620\u001B[0m     \u001B[1;32mdef\u001B[0m \u001B[0mfillna\u001B[0m\u001B[1;33m(\u001B[0m\u001B[0mself\u001B[0m\u001B[1;33m,\u001B[0m \u001B[0mvalue\u001B[0m\u001B[1;33m,\u001B[0m \u001B[0mlimit\u001B[0m\u001B[1;33m,\u001B[0m \u001B[0minplace\u001B[0m\u001B[1;33m:\u001B[0m \u001B[0mbool\u001B[0m\u001B[1;33m,\u001B[0m \u001B[0mdowncast\u001B[0m\u001B[1;33m)\u001B[0m \u001B[1;33m->\u001B[0m \u001B[1;34m\"BlockManager\"\u001B[0m\u001B[1;33m:\u001B[0m\u001B[1;33m\u001B[0m\u001B[1;33m\u001B[0m\u001B[0m\n\u001B[1;32m--> 621\u001B[1;33m         return self.apply(\n\u001B[0m\u001B[0;32m    622\u001B[0m             \u001B[1;34m\"fillna\"\u001B[0m\u001B[1;33m,\u001B[0m \u001B[0mvalue\u001B[0m\u001B[1;33m=\u001B[0m\u001B[0mvalue\u001B[0m\u001B[1;33m,\u001B[0m \u001B[0mlimit\u001B[0m\u001B[1;33m=\u001B[0m\u001B[0mlimit\u001B[0m\u001B[1;33m,\u001B[0m \u001B[0minplace\u001B[0m\u001B[1;33m=\u001B[0m\u001B[0minplace\u001B[0m\u001B[1;33m,\u001B[0m \u001B[0mdowncast\u001B[0m\u001B[1;33m=\u001B[0m\u001B[0mdowncast\u001B[0m\u001B[1;33m\u001B[0m\u001B[1;33m\u001B[0m\u001B[0m\n\u001B[0;32m    623\u001B[0m         )\n",
      "\u001B[1;32m~\\AppData\\Local\\Programs\\Python\\Python39\\lib\\site-packages\\pandas\\core\\internals\\managers.py\u001B[0m in \u001B[0;36mapply\u001B[1;34m(self, f, align_keys, ignore_failures, **kwargs)\u001B[0m\n\u001B[0;32m    425\u001B[0m                     \u001B[0mapplied\u001B[0m \u001B[1;33m=\u001B[0m \u001B[0mb\u001B[0m\u001B[1;33m.\u001B[0m\u001B[0mapply\u001B[0m\u001B[1;33m(\u001B[0m\u001B[0mf\u001B[0m\u001B[1;33m,\u001B[0m \u001B[1;33m**\u001B[0m\u001B[0mkwargs\u001B[0m\u001B[1;33m)\u001B[0m\u001B[1;33m\u001B[0m\u001B[1;33m\u001B[0m\u001B[0m\n\u001B[0;32m    426\u001B[0m                 \u001B[1;32melse\u001B[0m\u001B[1;33m:\u001B[0m\u001B[1;33m\u001B[0m\u001B[1;33m\u001B[0m\u001B[0m\n\u001B[1;32m--> 427\u001B[1;33m                     \u001B[0mapplied\u001B[0m \u001B[1;33m=\u001B[0m \u001B[0mgetattr\u001B[0m\u001B[1;33m(\u001B[0m\u001B[0mb\u001B[0m\u001B[1;33m,\u001B[0m \u001B[0mf\u001B[0m\u001B[1;33m)\u001B[0m\u001B[1;33m(\u001B[0m\u001B[1;33m**\u001B[0m\u001B[0mkwargs\u001B[0m\u001B[1;33m)\u001B[0m\u001B[1;33m\u001B[0m\u001B[1;33m\u001B[0m\u001B[0m\n\u001B[0m\u001B[0;32m    428\u001B[0m             \u001B[1;32mexcept\u001B[0m \u001B[1;33m(\u001B[0m\u001B[0mTypeError\u001B[0m\u001B[1;33m,\u001B[0m \u001B[0mNotImplementedError\u001B[0m\u001B[1;33m)\u001B[0m\u001B[1;33m:\u001B[0m\u001B[1;33m\u001B[0m\u001B[1;33m\u001B[0m\u001B[0m\n\u001B[0;32m    429\u001B[0m                 \u001B[1;32mif\u001B[0m \u001B[1;32mnot\u001B[0m \u001B[0mignore_failures\u001B[0m\u001B[1;33m:\u001B[0m\u001B[1;33m\u001B[0m\u001B[1;33m\u001B[0m\u001B[0m\n",
      "\u001B[1;32m~\\AppData\\Local\\Programs\\Python\\Python39\\lib\\site-packages\\pandas\\core\\internals\\blocks.py\u001B[0m in \u001B[0;36mfillna\u001B[1;34m(self, value, limit, inplace, downcast)\u001B[0m\n\u001B[0;32m    440\u001B[0m \u001B[1;33m\u001B[0m\u001B[0m\n\u001B[0;32m    441\u001B[0m         \u001B[1;32mif\u001B[0m \u001B[0mself\u001B[0m\u001B[1;33m.\u001B[0m\u001B[0m_can_hold_element\u001B[0m\u001B[1;33m(\u001B[0m\u001B[0mvalue\u001B[0m\u001B[1;33m)\u001B[0m\u001B[1;33m:\u001B[0m\u001B[1;33m\u001B[0m\u001B[1;33m\u001B[0m\u001B[0m\n\u001B[1;32m--> 442\u001B[1;33m             \u001B[0mnb\u001B[0m \u001B[1;33m=\u001B[0m \u001B[0mself\u001B[0m \u001B[1;32mif\u001B[0m \u001B[0minplace\u001B[0m \u001B[1;32melse\u001B[0m \u001B[0mself\u001B[0m\u001B[1;33m.\u001B[0m\u001B[0mcopy\u001B[0m\u001B[1;33m(\u001B[0m\u001B[1;33m)\u001B[0m\u001B[1;33m\u001B[0m\u001B[1;33m\u001B[0m\u001B[0m\n\u001B[0m\u001B[0;32m    443\u001B[0m             \u001B[0mnb\u001B[0m\u001B[1;33m.\u001B[0m\u001B[0m_putmask_simple\u001B[0m\u001B[1;33m(\u001B[0m\u001B[0mmask\u001B[0m\u001B[1;33m,\u001B[0m \u001B[0mvalue\u001B[0m\u001B[1;33m)\u001B[0m\u001B[1;33m\u001B[0m\u001B[1;33m\u001B[0m\u001B[0m\n\u001B[0;32m    444\u001B[0m             \u001B[1;31m# TODO: should be nb._maybe_downcast?\u001B[0m\u001B[1;33m\u001B[0m\u001B[1;33m\u001B[0m\u001B[0m\n",
      "\u001B[1;32m~\\AppData\\Local\\Programs\\Python\\Python39\\lib\\site-packages\\pandas\\core\\internals\\blocks.py\u001B[0m in \u001B[0;36mcopy\u001B[1;34m(self, deep)\u001B[0m\n\u001B[0;32m    754\u001B[0m         \u001B[0mvalues\u001B[0m \u001B[1;33m=\u001B[0m \u001B[0mself\u001B[0m\u001B[1;33m.\u001B[0m\u001B[0mvalues\u001B[0m\u001B[1;33m\u001B[0m\u001B[1;33m\u001B[0m\u001B[0m\n\u001B[0;32m    755\u001B[0m         \u001B[1;32mif\u001B[0m \u001B[0mdeep\u001B[0m\u001B[1;33m:\u001B[0m\u001B[1;33m\u001B[0m\u001B[1;33m\u001B[0m\u001B[0m\n\u001B[1;32m--> 756\u001B[1;33m             \u001B[0mvalues\u001B[0m \u001B[1;33m=\u001B[0m \u001B[0mvalues\u001B[0m\u001B[1;33m.\u001B[0m\u001B[0mcopy\u001B[0m\u001B[1;33m(\u001B[0m\u001B[1;33m)\u001B[0m\u001B[1;33m\u001B[0m\u001B[1;33m\u001B[0m\u001B[0m\n\u001B[0m\u001B[0;32m    757\u001B[0m         \u001B[1;32mreturn\u001B[0m \u001B[0mself\u001B[0m\u001B[1;33m.\u001B[0m\u001B[0mmake_block_same_class\u001B[0m\u001B[1;33m(\u001B[0m\u001B[0mvalues\u001B[0m\u001B[1;33m,\u001B[0m \u001B[0mndim\u001B[0m\u001B[1;33m=\u001B[0m\u001B[0mself\u001B[0m\u001B[1;33m.\u001B[0m\u001B[0mndim\u001B[0m\u001B[1;33m)\u001B[0m\u001B[1;33m\u001B[0m\u001B[1;33m\u001B[0m\u001B[0m\n\u001B[0;32m    758\u001B[0m \u001B[1;33m\u001B[0m\u001B[0m\n",
      "\u001B[1;31mMemoryError\u001B[0m: Unable to allocate 11.1 GiB for an array with shape (265458, 5591) and data type float64"
     ]
    }
   ],
   "source": [
    "# pivot and create movie-user matrix\n",
    "df = refined_dataset.pivot(\n",
    "     index='title',\n",
    "   columns='userId',\n",
    "      values='rating').fillna(0)\n",
    "\n",
    "df.head()"
   ]
  },
  {
   "cell_type": "code",
   "execution_count": null,
   "id": "1d9bc17b",
   "metadata": {},
   "outputs": [],
   "source": [
    "knn = NearestNeighbors(metric='cosine', algorithm='brute')\n",
    "knn.fit(df.values)\n",
    "distances, indices = knn.kneighbors(df.values, n_neighbors=3)"
   ]
  },
  {
   "cell_type": "code",
   "execution_count": null,
   "id": "b8752386",
   "metadata": {},
   "outputs": [],
   "source": [
    "indices"
   ]
  },
  {
   "cell_type": "code",
   "execution_count": null,
   "id": "74846dd7",
   "metadata": {},
   "outputs": [],
   "source": [
    "distances"
   ]
  },
  {
   "cell_type": "code",
   "execution_count": null,
   "id": "aea6ad1a",
   "metadata": {},
   "outputs": [],
   "source": [
    "# get the index for 'movie_0'\n",
    "index_for_movie = df.index.tolist().index('Sleepless in Seattle')\n",
    "# find the indices for the similar movies\n",
    "sim_movies = indices[index_for_movie].tolist()\n",
    "# distances between 'movie_0' and the similar movies\n",
    "movie_distances = distances[index_for_movie].tolist()\n",
    "# the position of 'movie_0' in the list sim_movies\n",
    "id_movie = sim_movies.index(index_for_movie)\n",
    "# remove 'movie_0' from the list sim_movies\n",
    "sim_movies.remove(index_for_movie)\n",
    "# remove 'movie_0' from the list movie_distances\n",
    "movie_distances.pop(id_movie)\n",
    "print('The Nearest Movies to movie_0:', sim_movies)\n",
    "print('The Distance from movie_0:', movie_distances)"
   ]
  },
  {
   "cell_type": "code",
   "execution_count": null,
   "id": "9d4f738c",
   "metadata": {},
   "outputs": [],
   "source": [
    "# copy df\n",
    "df1 = df.copy()\n",
    "\n",
    "# find the nearest neighbors using NearestNeighbors(n_neighbors=3)\n",
    "number_neighbors = 3\n",
    "knn = NearestNeighbors(metric='cosine', algorithm='brute')\n",
    "knn.fit(df.values)\n",
    "distances, indices = knn.kneighbors(df.values, n_neighbors=number_neighbors)\n",
    "\n",
    "# convert user_name to user_index\n",
    "user_index = df.columns.tolist().index(1)\n",
    "\n",
    "# t: movie_title, m: the row number of t in df\n",
    "for m,t in list(enumerate(df.index)):\n",
    "  \n",
    "  # find movies without ratings by user_4\n",
    "  if df.iloc[m, user_index] == 0:\n",
    "    sim_movies = indices[m].tolist()\n",
    "    movie_distances = distances[m].tolist()\n",
    "    \n",
    "    if m in sim_movies:\n",
    "      id_movie = sim_movies.index(m)\n",
    "      sim_movies.remove(m)\n",
    "      movie_distances.pop(id_movie) \n",
    "\n",
    "    \n",
    "    else:\n",
    "      sim_movies = sim_movies[:number_neighbors-1]\n",
    "      movie_distances = movie_distances[:number_neighbors-1]\n",
    "        \n",
    "    # movie_similarty = 1 - movie_distance    \n",
    "    movie_similarity = [1-x for x in movie_distances]\n",
    "    movie_similarity_copy = movie_similarity.copy()\n",
    "    nominator = 0\n",
    "\n",
    "    # for each similar movie\n",
    "    for s in range(0, len(movie_similarity)):\n",
    "      \n",
    "      # check if the rating of a similar movie is zero\n",
    "      if df.iloc[sim_movies[s], user_index] == 0:\n",
    "\n",
    "        # if the rating is zero, ignore the rating and the similarity in calculating the predicted rating\n",
    "        if len(movie_similarity_copy) == (number_neighbors - 1):\n",
    "          movie_similarity_copy.pop(s)\n",
    "          \n",
    "        else:\n",
    "          movie_similarity_copy.pop(s-(len(movie_similarity)-len(movie_similarity_copy)))\n",
    "\n",
    "      # if the rating is not zero, use the rating and similarity in the calculation\n",
    "      else:\n",
    "        nominator = nominator + movie_similarity[s]*df.iloc[sim_movies[s],user_index]\n",
    "\n",
    "    # check if the number of the ratings with non-zero is positive\n",
    "    if len(movie_similarity_copy) > 0:\n",
    "      \n",
    "      # check if the sum of the ratings of the similar movies is positive.\n",
    "      if sum(movie_similarity_copy) > 0:\n",
    "        predicted_r = nominator/sum(movie_similarity_copy)\n",
    "\n",
    "      else:\n",
    "        predicted_r = 0\n",
    "\n",
    "    # if all the ratings of the similar movies are zero, then predicted rating should be zero\n",
    "    else:\n",
    "      predicted_r = 0\n",
    "\n",
    "  # place the predicted rating into the copy of the original dataset\n",
    "    df1.iloc[m,user_index] = predicted_r"
   ]
  },
  {
   "cell_type": "code",
   "execution_count": null,
   "id": "47b13ec6",
   "metadata": {},
   "outputs": [],
   "source": [
    "def recommend_movies(user, num_recommended_movies):\n",
    "\n",
    "  print('The list of the Movies {} Has Watched \\n'.format(user))\n",
    "\n",
    "  for m in df[df[user] > 0][user].index.tolist():\n",
    "    print(m)\n",
    "  \n",
    "  print('\\n')\n",
    "\n",
    "  recommended_movies = []\n",
    "\n",
    "  for m in df[df[user] == 0].index.tolist():\n",
    "\n",
    "    index_df = df.index.tolist().index(m)\n",
    "    predicted_rating = df1.iloc[index_df, df1.columns.tolist().index(user)]\n",
    "    recommended_movies.append((m, predicted_rating))\n",
    "\n",
    "  sorted_rm = sorted(recommended_movies, key=lambda x:x[1], reverse=True)\n",
    "  \n",
    "  print('The list of the Recommended Movies \\n')\n",
    "  rank = 1\n",
    "  for recommended_movie in sorted_rm[:num_recommended_movies]:\n",
    "    print('{}: {} - predicted rating:{}'.format(rank, recommended_movie[0], recommended_movie[1]))\n",
    "    rank = rank + 1\n"
   ]
  },
  {
   "cell_type": "code",
   "execution_count": null,
   "id": "a17fc2dd",
   "metadata": {
    "scrolled": true,
    "pycharm": {
     "name": "#%%\n"
    }
   },
   "outputs": [],
   "source": [
    "from pprint import pprint\n",
    "print(\"Enter user id\")\n",
    "user= int(input())\n",
    "print(\"Enter number of movies to be recommended:\")\n",
    "num_recommended_movies = int(input())\n",
    "\n",
    "recommend_movies(user,num_recommended_movies)"
   ]
  },
  {
   "cell_type": "code",
   "execution_count": null,
   "outputs": [],
   "source": [],
   "metadata": {
    "collapsed": false,
    "pycharm": {
     "name": "#%%\n"
    }
   }
  }
 ],
 "metadata": {
  "kernelspec": {
   "display_name": "Python 3 (ipykernel)",
   "language": "python",
   "name": "python3"
  },
  "language_info": {
   "codemirror_mode": {
    "name": "ipython",
    "version": 3
   },
   "file_extension": ".py",
   "mimetype": "text/x-python",
   "name": "python",
   "nbconvert_exporter": "python",
   "pygments_lexer": "ipython3",
   "version": "3.9.7"
  }
 },
 "nbformat": 4,
 "nbformat_minor": 5
}