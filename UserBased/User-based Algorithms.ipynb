{
 "cells": [
  {
   "cell_type": "code",
   "execution_count": 1,
   "metadata": {
    "collapsed": true
   },
   "outputs": [],
   "source": [
    "import statistics\n",
    "import string\n",
    "import pandas as pd\n",
    "import numpy as np\n",
    "from math import sqrt\n",
    "from sklearn.preprocessing import LabelEncoder\n"
   ]
  },
  {
   "cell_type": "code",
   "execution_count": 2,
   "outputs": [
    {
     "name": "stderr",
     "output_type": "stream",
     "text": [
      "C:\\Users\\vuhoa\\AppData\\Local\\Programs\\Python\\Python39\\lib\\site-packages\\IPython\\core\\interactiveshell.py:3169: DtypeWarning: Columns (16) have mixed types.Specify dtype option on import or set low_memory=False.\n",
      "  has_raised = await self.run_ast_nodes(code_ast.body, cell_name,\n"
     ]
    },
    {
     "data": {
      "text/plain": "   Unnamed: 0  belongs_to_collection    budget  \\\n0           0                      1  0.078947   \n1           1                      1  0.078947   \n2           2                      1  0.078947   \n3           3                      1  0.078947   \n4           4                      1  0.078947   \n\n                              genres   id original_language  popularity  \\\n0  ['Animation', 'Comedy', 'Family']  862                en   21.946943   \n1  ['Animation', 'Comedy', 'Family']  862                en   21.946943   \n2  ['Animation', 'Comedy', 'Family']  862                en   21.946943   \n3  ['Animation', 'Comedy', 'Family']  862                en   21.946943   \n4  ['Animation', 'Comedy', 'Family']  862                en   21.946943   \n\n          production_companies          production_countries  \\\n0  ['Pixar Animation Studios']  ['United States of America']   \n1  ['Pixar Animation Studios']  ['United States of America']   \n2  ['Pixar Animation Studios']  ['United States of America']   \n3  ['Pixar Animation Studios']  ['United States of America']   \n4  ['Pixar Animation Studios']  ['United States of America']   \n\n          release_date  ...  vote_count  release_year   profit  \\\n0  1995-10-30 00:00:00  ...      5415.0        1995.0  0.90409   \n1  1995-10-30 00:00:00  ...      5415.0        1995.0  0.90409   \n2  1995-10-30 00:00:00  ...      5415.0        1995.0  0.90409   \n3  1995-10-30 00:00:00  ...      5415.0        1995.0  0.90409   \n4  1995-10-30 00:00:00  ...      5415.0        1995.0  0.90409   \n\n  weighted_rating                                       cast       director  \\\n0        7.684684  ['Tom Hanks', 'Tim Allen', 'Don Rickles']  John Lasseter   \n1        7.684684  ['Tom Hanks', 'Tim Allen', 'Don Rickles']  John Lasseter   \n2        7.684684  ['Tom Hanks', 'Tim Allen', 'Don Rickles']  John Lasseter   \n3        7.684684  ['Tom Hanks', 'Tim Allen', 'Don Rickles']  John Lasseter   \n4        7.684684  ['Tom Hanks', 'Tim Allen', 'Don Rickles']  John Lasseter   \n\n                                            keywords  userId  rating  \\\n0  ['new toy', 'boy next door', 'toy comes to lif...    1923     3.0   \n1  ['new toy', 'boy next door', 'toy comes to lif...    2103     5.0   \n2  ['new toy', 'boy next door', 'toy comes to lif...    5380     1.0   \n3  ['new toy', 'boy next door', 'toy comes to lif...    6177     4.0   \n4  ['new toy', 'boy next door', 'toy comes to lif...    6525     4.0   \n\n   timestamp  \n0  858335006  \n1  946044912  \n2  878941641  \n3  859415226  \n4  857388995  \n\n[5 rows x 25 columns]",
      "text/html": "<div>\n<style scoped>\n    .dataframe tbody tr th:only-of-type {\n        vertical-align: middle;\n    }\n\n    .dataframe tbody tr th {\n        vertical-align: top;\n    }\n\n    .dataframe thead th {\n        text-align: right;\n    }\n</style>\n<table border=\"1\" class=\"dataframe\">\n  <thead>\n    <tr style=\"text-align: right;\">\n      <th></th>\n      <th>Unnamed: 0</th>\n      <th>belongs_to_collection</th>\n      <th>budget</th>\n      <th>genres</th>\n      <th>id</th>\n      <th>original_language</th>\n      <th>popularity</th>\n      <th>production_companies</th>\n      <th>production_countries</th>\n      <th>release_date</th>\n      <th>...</th>\n      <th>vote_count</th>\n      <th>release_year</th>\n      <th>profit</th>\n      <th>weighted_rating</th>\n      <th>cast</th>\n      <th>director</th>\n      <th>keywords</th>\n      <th>userId</th>\n      <th>rating</th>\n      <th>timestamp</th>\n    </tr>\n  </thead>\n  <tbody>\n    <tr>\n      <th>0</th>\n      <td>0</td>\n      <td>1</td>\n      <td>0.078947</td>\n      <td>['Animation', 'Comedy', 'Family']</td>\n      <td>862</td>\n      <td>en</td>\n      <td>21.946943</td>\n      <td>['Pixar Animation Studios']</td>\n      <td>['United States of America']</td>\n      <td>1995-10-30 00:00:00</td>\n      <td>...</td>\n      <td>5415.0</td>\n      <td>1995.0</td>\n      <td>0.90409</td>\n      <td>7.684684</td>\n      <td>['Tom Hanks', 'Tim Allen', 'Don Rickles']</td>\n      <td>John Lasseter</td>\n      <td>['new toy', 'boy next door', 'toy comes to lif...</td>\n      <td>1923</td>\n      <td>3.0</td>\n      <td>858335006</td>\n    </tr>\n    <tr>\n      <th>1</th>\n      <td>1</td>\n      <td>1</td>\n      <td>0.078947</td>\n      <td>['Animation', 'Comedy', 'Family']</td>\n      <td>862</td>\n      <td>en</td>\n      <td>21.946943</td>\n      <td>['Pixar Animation Studios']</td>\n      <td>['United States of America']</td>\n      <td>1995-10-30 00:00:00</td>\n      <td>...</td>\n      <td>5415.0</td>\n      <td>1995.0</td>\n      <td>0.90409</td>\n      <td>7.684684</td>\n      <td>['Tom Hanks', 'Tim Allen', 'Don Rickles']</td>\n      <td>John Lasseter</td>\n      <td>['new toy', 'boy next door', 'toy comes to lif...</td>\n      <td>2103</td>\n      <td>5.0</td>\n      <td>946044912</td>\n    </tr>\n    <tr>\n      <th>2</th>\n      <td>2</td>\n      <td>1</td>\n      <td>0.078947</td>\n      <td>['Animation', 'Comedy', 'Family']</td>\n      <td>862</td>\n      <td>en</td>\n      <td>21.946943</td>\n      <td>['Pixar Animation Studios']</td>\n      <td>['United States of America']</td>\n      <td>1995-10-30 00:00:00</td>\n      <td>...</td>\n      <td>5415.0</td>\n      <td>1995.0</td>\n      <td>0.90409</td>\n      <td>7.684684</td>\n      <td>['Tom Hanks', 'Tim Allen', 'Don Rickles']</td>\n      <td>John Lasseter</td>\n      <td>['new toy', 'boy next door', 'toy comes to lif...</td>\n      <td>5380</td>\n      <td>1.0</td>\n      <td>878941641</td>\n    </tr>\n    <tr>\n      <th>3</th>\n      <td>3</td>\n      <td>1</td>\n      <td>0.078947</td>\n      <td>['Animation', 'Comedy', 'Family']</td>\n      <td>862</td>\n      <td>en</td>\n      <td>21.946943</td>\n      <td>['Pixar Animation Studios']</td>\n      <td>['United States of America']</td>\n      <td>1995-10-30 00:00:00</td>\n      <td>...</td>\n      <td>5415.0</td>\n      <td>1995.0</td>\n      <td>0.90409</td>\n      <td>7.684684</td>\n      <td>['Tom Hanks', 'Tim Allen', 'Don Rickles']</td>\n      <td>John Lasseter</td>\n      <td>['new toy', 'boy next door', 'toy comes to lif...</td>\n      <td>6177</td>\n      <td>4.0</td>\n      <td>859415226</td>\n    </tr>\n    <tr>\n      <th>4</th>\n      <td>4</td>\n      <td>1</td>\n      <td>0.078947</td>\n      <td>['Animation', 'Comedy', 'Family']</td>\n      <td>862</td>\n      <td>en</td>\n      <td>21.946943</td>\n      <td>['Pixar Animation Studios']</td>\n      <td>['United States of America']</td>\n      <td>1995-10-30 00:00:00</td>\n      <td>...</td>\n      <td>5415.0</td>\n      <td>1995.0</td>\n      <td>0.90409</td>\n      <td>7.684684</td>\n      <td>['Tom Hanks', 'Tim Allen', 'Don Rickles']</td>\n      <td>John Lasseter</td>\n      <td>['new toy', 'boy next door', 'toy comes to lif...</td>\n      <td>6525</td>\n      <td>4.0</td>\n      <td>857388995</td>\n    </tr>\n  </tbody>\n</table>\n<p>5 rows × 25 columns</p>\n</div>"
     },
     "execution_count": 2,
     "metadata": {},
     "output_type": "execute_result"
    }
   ],
   "source": [
    "df = pd.read_csv(\"./movies-data/combine_data.csv\")\n",
    "df.head()"
   ],
   "metadata": {
    "collapsed": false,
    "pycharm": {
     "name": "#%%\n"
    }
   }
  },
  {
   "cell_type": "code",
   "execution_count": 3,
   "outputs": [],
   "source": [
    "df = df.drop(['Unnamed: 0'], axis=1)"
   ],
   "metadata": {
    "collapsed": false,
    "pycharm": {
     "name": "#%%\n"
    }
   }
  },
  {
   "cell_type": "code",
   "execution_count": 4,
   "outputs": [
    {
     "data": {
      "text/plain": "          belongs_to_collection    budget                             genres  \\\n0                             1  0.078947  ['Animation', 'Comedy', 'Family']   \n1                             1  0.078947  ['Animation', 'Comedy', 'Family']   \n2                             1  0.078947  ['Animation', 'Comedy', 'Family']   \n3                             1  0.078947  ['Animation', 'Comedy', 'Family']   \n4                             1  0.078947  ['Animation', 'Comedy', 'Family']   \n...                         ...       ...                                ...   \n10933455                      0       NaN                          ['Drama']   \n10933456                      0       NaN                          ['Drama']   \n10933457                      0       NaN                          ['Drama']   \n10933458                      0       NaN                          ['Drama']   \n10933459                      0       NaN                          ['Drama']   \n\n              id original_language  popularity         production_companies  \\\n0            862                en   21.946943  ['Pixar Animation Studios']   \n1            862                en   21.946943  ['Pixar Animation Studios']   \n2            862                en   21.946943  ['Pixar Animation Studios']   \n3            862                en   21.946943  ['Pixar Animation Studios']   \n4            862                en   21.946943  ['Pixar Animation Studios']   \n...          ...               ...         ...                          ...   \n10933455  111109                tl    0.178241              ['Sine Olivia']   \n10933456  111109                tl    0.178241              ['Sine Olivia']   \n10933457  111109                tl    0.178241              ['Sine Olivia']   \n10933458  111109                tl    0.178241              ['Sine Olivia']   \n10933459  111109                tl    0.178241              ['Sine Olivia']   \n\n                  production_countries         release_date   revenue  ...  \\\n0         ['United States of America']  1995-10-30 00:00:00  0.983037  ...   \n1         ['United States of America']  1995-10-30 00:00:00  0.983037  ...   \n2         ['United States of America']  1995-10-30 00:00:00  0.983037  ...   \n3         ['United States of America']  1995-10-30 00:00:00  0.983037  ...   \n4         ['United States of America']  1995-10-30 00:00:00  0.983037  ...   \n...                                ...                  ...       ...  ...   \n10933455               ['Philippines']  2011-11-17 00:00:00       NaN  ...   \n10933456               ['Philippines']  2011-11-17 00:00:00       NaN  ...   \n10933457               ['Philippines']  2011-11-17 00:00:00       NaN  ...   \n10933458               ['Philippines']  2011-11-17 00:00:00       NaN  ...   \n10933459               ['Philippines']  2011-11-17 00:00:00       NaN  ...   \n\n          vote_count release_year   profit  weighted_rating  \\\n0             5415.0       1995.0  0.90409         7.684684   \n1             5415.0       1995.0  0.90409         7.684684   \n2             5415.0       1995.0  0.90409         7.684684   \n3             5415.0       1995.0  0.90409         7.684684   \n4             5415.0       1995.0  0.90409         7.684684   \n...              ...          ...      ...              ...   \n10933455         3.0       2011.0      NaN         5.640155   \n10933456         3.0       2011.0      NaN         5.640155   \n10933457         3.0       2011.0      NaN         5.640155   \n10933458         3.0       2011.0      NaN         5.640155   \n10933459         3.0       2011.0      NaN         5.640155   \n\n                                                      cast       director  \\\n0                ['Tom Hanks', 'Tim Allen', 'Don Rickles']  John Lasseter   \n1                ['Tom Hanks', 'Tim Allen', 'Don Rickles']  John Lasseter   \n2                ['Tom Hanks', 'Tim Allen', 'Don Rickles']  John Lasseter   \n3                ['Tom Hanks', 'Tim Allen', 'Don Rickles']  John Lasseter   \n4                ['Tom Hanks', 'Tim Allen', 'Don Rickles']  John Lasseter   \n...                                                    ...            ...   \n10933455  ['Angel Aquino', 'Perry Dizon', 'Hazel Orencio']       Lav Diaz   \n10933456  ['Angel Aquino', 'Perry Dizon', 'Hazel Orencio']       Lav Diaz   \n10933457  ['Angel Aquino', 'Perry Dizon', 'Hazel Orencio']       Lav Diaz   \n10933458  ['Angel Aquino', 'Perry Dizon', 'Hazel Orencio']       Lav Diaz   \n10933459  ['Angel Aquino', 'Perry Dizon', 'Hazel Orencio']       Lav Diaz   \n\n                                                   keywords  userId rating  \\\n0         ['new toy', 'boy next door', 'toy comes to lif...    1923    3.0   \n1         ['new toy', 'boy next door', 'toy comes to lif...    2103    5.0   \n2         ['new toy', 'boy next door', 'toy comes to lif...    5380    1.0   \n3         ['new toy', 'boy next door', 'toy comes to lif...    6177    4.0   \n4         ['new toy', 'boy next door', 'toy comes to lif...    6525    4.0   \n...                                                     ...     ...    ...   \n10933455                        ['artist', 'play', 'pinoy']   33940    2.5   \n10933456                        ['artist', 'play', 'pinoy']  172224    3.0   \n10933457                        ['artist', 'play', 'pinoy']  210792    3.0   \n10933458                        ['artist', 'play', 'pinoy']  225396    3.5   \n10933459                        ['artist', 'play', 'pinoy']  269593    0.5   \n\n           timestamp  \n0          858335006  \n1          946044912  \n2          878941641  \n3          859415226  \n4          857388995  \n...              ...  \n10933455  1405878785  \n10933456  1399502972  \n10933457  1467090449  \n10933458  1399302912  \n10933459  1471835519  \n\n[10933460 rows x 24 columns]",
      "text/html": "<div>\n<style scoped>\n    .dataframe tbody tr th:only-of-type {\n        vertical-align: middle;\n    }\n\n    .dataframe tbody tr th {\n        vertical-align: top;\n    }\n\n    .dataframe thead th {\n        text-align: right;\n    }\n</style>\n<table border=\"1\" class=\"dataframe\">\n  <thead>\n    <tr style=\"text-align: right;\">\n      <th></th>\n      <th>belongs_to_collection</th>\n      <th>budget</th>\n      <th>genres</th>\n      <th>id</th>\n      <th>original_language</th>\n      <th>popularity</th>\n      <th>production_companies</th>\n      <th>production_countries</th>\n      <th>release_date</th>\n      <th>revenue</th>\n      <th>...</th>\n      <th>vote_count</th>\n      <th>release_year</th>\n      <th>profit</th>\n      <th>weighted_rating</th>\n      <th>cast</th>\n      <th>director</th>\n      <th>keywords</th>\n      <th>userId</th>\n      <th>rating</th>\n      <th>timestamp</th>\n    </tr>\n  </thead>\n  <tbody>\n    <tr>\n      <th>0</th>\n      <td>1</td>\n      <td>0.078947</td>\n      <td>['Animation', 'Comedy', 'Family']</td>\n      <td>862</td>\n      <td>en</td>\n      <td>21.946943</td>\n      <td>['Pixar Animation Studios']</td>\n      <td>['United States of America']</td>\n      <td>1995-10-30 00:00:00</td>\n      <td>0.983037</td>\n      <td>...</td>\n      <td>5415.0</td>\n      <td>1995.0</td>\n      <td>0.90409</td>\n      <td>7.684684</td>\n      <td>['Tom Hanks', 'Tim Allen', 'Don Rickles']</td>\n      <td>John Lasseter</td>\n      <td>['new toy', 'boy next door', 'toy comes to lif...</td>\n      <td>1923</td>\n      <td>3.0</td>\n      <td>858335006</td>\n    </tr>\n    <tr>\n      <th>1</th>\n      <td>1</td>\n      <td>0.078947</td>\n      <td>['Animation', 'Comedy', 'Family']</td>\n      <td>862</td>\n      <td>en</td>\n      <td>21.946943</td>\n      <td>['Pixar Animation Studios']</td>\n      <td>['United States of America']</td>\n      <td>1995-10-30 00:00:00</td>\n      <td>0.983037</td>\n      <td>...</td>\n      <td>5415.0</td>\n      <td>1995.0</td>\n      <td>0.90409</td>\n      <td>7.684684</td>\n      <td>['Tom Hanks', 'Tim Allen', 'Don Rickles']</td>\n      <td>John Lasseter</td>\n      <td>['new toy', 'boy next door', 'toy comes to lif...</td>\n      <td>2103</td>\n      <td>5.0</td>\n      <td>946044912</td>\n    </tr>\n    <tr>\n      <th>2</th>\n      <td>1</td>\n      <td>0.078947</td>\n      <td>['Animation', 'Comedy', 'Family']</td>\n      <td>862</td>\n      <td>en</td>\n      <td>21.946943</td>\n      <td>['Pixar Animation Studios']</td>\n      <td>['United States of America']</td>\n      <td>1995-10-30 00:00:00</td>\n      <td>0.983037</td>\n      <td>...</td>\n      <td>5415.0</td>\n      <td>1995.0</td>\n      <td>0.90409</td>\n      <td>7.684684</td>\n      <td>['Tom Hanks', 'Tim Allen', 'Don Rickles']</td>\n      <td>John Lasseter</td>\n      <td>['new toy', 'boy next door', 'toy comes to lif...</td>\n      <td>5380</td>\n      <td>1.0</td>\n      <td>878941641</td>\n    </tr>\n    <tr>\n      <th>3</th>\n      <td>1</td>\n      <td>0.078947</td>\n      <td>['Animation', 'Comedy', 'Family']</td>\n      <td>862</td>\n      <td>en</td>\n      <td>21.946943</td>\n      <td>['Pixar Animation Studios']</td>\n      <td>['United States of America']</td>\n      <td>1995-10-30 00:00:00</td>\n      <td>0.983037</td>\n      <td>...</td>\n      <td>5415.0</td>\n      <td>1995.0</td>\n      <td>0.90409</td>\n      <td>7.684684</td>\n      <td>['Tom Hanks', 'Tim Allen', 'Don Rickles']</td>\n      <td>John Lasseter</td>\n      <td>['new toy', 'boy next door', 'toy comes to lif...</td>\n      <td>6177</td>\n      <td>4.0</td>\n      <td>859415226</td>\n    </tr>\n    <tr>\n      <th>4</th>\n      <td>1</td>\n      <td>0.078947</td>\n      <td>['Animation', 'Comedy', 'Family']</td>\n      <td>862</td>\n      <td>en</td>\n      <td>21.946943</td>\n      <td>['Pixar Animation Studios']</td>\n      <td>['United States of America']</td>\n      <td>1995-10-30 00:00:00</td>\n      <td>0.983037</td>\n      <td>...</td>\n      <td>5415.0</td>\n      <td>1995.0</td>\n      <td>0.90409</td>\n      <td>7.684684</td>\n      <td>['Tom Hanks', 'Tim Allen', 'Don Rickles']</td>\n      <td>John Lasseter</td>\n      <td>['new toy', 'boy next door', 'toy comes to lif...</td>\n      <td>6525</td>\n      <td>4.0</td>\n      <td>857388995</td>\n    </tr>\n    <tr>\n      <th>...</th>\n      <td>...</td>\n      <td>...</td>\n      <td>...</td>\n      <td>...</td>\n      <td>...</td>\n      <td>...</td>\n      <td>...</td>\n      <td>...</td>\n      <td>...</td>\n      <td>...</td>\n      <td>...</td>\n      <td>...</td>\n      <td>...</td>\n      <td>...</td>\n      <td>...</td>\n      <td>...</td>\n      <td>...</td>\n      <td>...</td>\n      <td>...</td>\n      <td>...</td>\n      <td>...</td>\n    </tr>\n    <tr>\n      <th>10933455</th>\n      <td>0</td>\n      <td>NaN</td>\n      <td>['Drama']</td>\n      <td>111109</td>\n      <td>tl</td>\n      <td>0.178241</td>\n      <td>['Sine Olivia']</td>\n      <td>['Philippines']</td>\n      <td>2011-11-17 00:00:00</td>\n      <td>NaN</td>\n      <td>...</td>\n      <td>3.0</td>\n      <td>2011.0</td>\n      <td>NaN</td>\n      <td>5.640155</td>\n      <td>['Angel Aquino', 'Perry Dizon', 'Hazel Orencio']</td>\n      <td>Lav Diaz</td>\n      <td>['artist', 'play', 'pinoy']</td>\n      <td>33940</td>\n      <td>2.5</td>\n      <td>1405878785</td>\n    </tr>\n    <tr>\n      <th>10933456</th>\n      <td>0</td>\n      <td>NaN</td>\n      <td>['Drama']</td>\n      <td>111109</td>\n      <td>tl</td>\n      <td>0.178241</td>\n      <td>['Sine Olivia']</td>\n      <td>['Philippines']</td>\n      <td>2011-11-17 00:00:00</td>\n      <td>NaN</td>\n      <td>...</td>\n      <td>3.0</td>\n      <td>2011.0</td>\n      <td>NaN</td>\n      <td>5.640155</td>\n      <td>['Angel Aquino', 'Perry Dizon', 'Hazel Orencio']</td>\n      <td>Lav Diaz</td>\n      <td>['artist', 'play', 'pinoy']</td>\n      <td>172224</td>\n      <td>3.0</td>\n      <td>1399502972</td>\n    </tr>\n    <tr>\n      <th>10933457</th>\n      <td>0</td>\n      <td>NaN</td>\n      <td>['Drama']</td>\n      <td>111109</td>\n      <td>tl</td>\n      <td>0.178241</td>\n      <td>['Sine Olivia']</td>\n      <td>['Philippines']</td>\n      <td>2011-11-17 00:00:00</td>\n      <td>NaN</td>\n      <td>...</td>\n      <td>3.0</td>\n      <td>2011.0</td>\n      <td>NaN</td>\n      <td>5.640155</td>\n      <td>['Angel Aquino', 'Perry Dizon', 'Hazel Orencio']</td>\n      <td>Lav Diaz</td>\n      <td>['artist', 'play', 'pinoy']</td>\n      <td>210792</td>\n      <td>3.0</td>\n      <td>1467090449</td>\n    </tr>\n    <tr>\n      <th>10933458</th>\n      <td>0</td>\n      <td>NaN</td>\n      <td>['Drama']</td>\n      <td>111109</td>\n      <td>tl</td>\n      <td>0.178241</td>\n      <td>['Sine Olivia']</td>\n      <td>['Philippines']</td>\n      <td>2011-11-17 00:00:00</td>\n      <td>NaN</td>\n      <td>...</td>\n      <td>3.0</td>\n      <td>2011.0</td>\n      <td>NaN</td>\n      <td>5.640155</td>\n      <td>['Angel Aquino', 'Perry Dizon', 'Hazel Orencio']</td>\n      <td>Lav Diaz</td>\n      <td>['artist', 'play', 'pinoy']</td>\n      <td>225396</td>\n      <td>3.5</td>\n      <td>1399302912</td>\n    </tr>\n    <tr>\n      <th>10933459</th>\n      <td>0</td>\n      <td>NaN</td>\n      <td>['Drama']</td>\n      <td>111109</td>\n      <td>tl</td>\n      <td>0.178241</td>\n      <td>['Sine Olivia']</td>\n      <td>['Philippines']</td>\n      <td>2011-11-17 00:00:00</td>\n      <td>NaN</td>\n      <td>...</td>\n      <td>3.0</td>\n      <td>2011.0</td>\n      <td>NaN</td>\n      <td>5.640155</td>\n      <td>['Angel Aquino', 'Perry Dizon', 'Hazel Orencio']</td>\n      <td>Lav Diaz</td>\n      <td>['artist', 'play', 'pinoy']</td>\n      <td>269593</td>\n      <td>0.5</td>\n      <td>1471835519</td>\n    </tr>\n  </tbody>\n</table>\n<p>10933460 rows × 24 columns</p>\n</div>"
     },
     "execution_count": 4,
     "metadata": {},
     "output_type": "execute_result"
    }
   ],
   "source": [
    "df"
   ],
   "metadata": {
    "collapsed": false,
    "pycharm": {
     "name": "#%%\n"
    }
   }
  },
  {
   "cell_type": "code",
   "execution_count": 5,
   "outputs": [
    {
     "data": {
      "text/plain": "              id  userId  rating                title\n0            862    1923     3.0            Toy Story\n1            862    2103     5.0            Toy Story\n2            862    5380     1.0            Toy Story\n3            862    6177     4.0            Toy Story\n4            862    6525     4.0            Toy Story\n...          ...     ...     ...                  ...\n10933455  111109   33940     2.5  Century of Birthing\n10933456  111109  172224     3.0  Century of Birthing\n10933457  111109  210792     3.0  Century of Birthing\n10933458  111109  225396     3.5  Century of Birthing\n10933459  111109  269593     0.5  Century of Birthing\n\n[10933460 rows x 4 columns]",
      "text/html": "<div>\n<style scoped>\n    .dataframe tbody tr th:only-of-type {\n        vertical-align: middle;\n    }\n\n    .dataframe tbody tr th {\n        vertical-align: top;\n    }\n\n    .dataframe thead th {\n        text-align: right;\n    }\n</style>\n<table border=\"1\" class=\"dataframe\">\n  <thead>\n    <tr style=\"text-align: right;\">\n      <th></th>\n      <th>id</th>\n      <th>userId</th>\n      <th>rating</th>\n      <th>title</th>\n    </tr>\n  </thead>\n  <tbody>\n    <tr>\n      <th>0</th>\n      <td>862</td>\n      <td>1923</td>\n      <td>3.0</td>\n      <td>Toy Story</td>\n    </tr>\n    <tr>\n      <th>1</th>\n      <td>862</td>\n      <td>2103</td>\n      <td>5.0</td>\n      <td>Toy Story</td>\n    </tr>\n    <tr>\n      <th>2</th>\n      <td>862</td>\n      <td>5380</td>\n      <td>1.0</td>\n      <td>Toy Story</td>\n    </tr>\n    <tr>\n      <th>3</th>\n      <td>862</td>\n      <td>6177</td>\n      <td>4.0</td>\n      <td>Toy Story</td>\n    </tr>\n    <tr>\n      <th>4</th>\n      <td>862</td>\n      <td>6525</td>\n      <td>4.0</td>\n      <td>Toy Story</td>\n    </tr>\n    <tr>\n      <th>...</th>\n      <td>...</td>\n      <td>...</td>\n      <td>...</td>\n      <td>...</td>\n    </tr>\n    <tr>\n      <th>10933455</th>\n      <td>111109</td>\n      <td>33940</td>\n      <td>2.5</td>\n      <td>Century of Birthing</td>\n    </tr>\n    <tr>\n      <th>10933456</th>\n      <td>111109</td>\n      <td>172224</td>\n      <td>3.0</td>\n      <td>Century of Birthing</td>\n    </tr>\n    <tr>\n      <th>10933457</th>\n      <td>111109</td>\n      <td>210792</td>\n      <td>3.0</td>\n      <td>Century of Birthing</td>\n    </tr>\n    <tr>\n      <th>10933458</th>\n      <td>111109</td>\n      <td>225396</td>\n      <td>3.5</td>\n      <td>Century of Birthing</td>\n    </tr>\n    <tr>\n      <th>10933459</th>\n      <td>111109</td>\n      <td>269593</td>\n      <td>0.5</td>\n      <td>Century of Birthing</td>\n    </tr>\n  </tbody>\n</table>\n<p>10933460 rows × 4 columns</p>\n</div>"
     },
     "execution_count": 5,
     "metadata": {},
     "output_type": "execute_result"
    }
   ],
   "source": [
    "movies = df[['id', 'userId', 'rating', 'title']].drop_duplicates(keep='first')\n",
    "movies"
   ],
   "metadata": {
    "collapsed": false,
    "pycharm": {
     "name": "#%%\n"
    }
   }
  },
  {
   "cell_type": "markdown",
   "source": [
    "For easy reference, change column name of id to movieId in order to seperate from userId"
   ],
   "metadata": {
    "collapsed": false
   }
  },
  {
   "cell_type": "code",
   "execution_count": 6,
   "outputs": [
    {
     "data": {
      "text/plain": "          movieId  userId  rating                title\n0             862    1923     3.0            Toy Story\n1             862    2103     5.0            Toy Story\n2             862    5380     1.0            Toy Story\n3             862    6177     4.0            Toy Story\n4             862    6525     4.0            Toy Story\n...           ...     ...     ...                  ...\n10933455   111109   33940     2.5  Century of Birthing\n10933456   111109  172224     3.0  Century of Birthing\n10933457   111109  210792     3.0  Century of Birthing\n10933458   111109  225396     3.5  Century of Birthing\n10933459   111109  269593     0.5  Century of Birthing\n\n[10933460 rows x 4 columns]",
      "text/html": "<div>\n<style scoped>\n    .dataframe tbody tr th:only-of-type {\n        vertical-align: middle;\n    }\n\n    .dataframe tbody tr th {\n        vertical-align: top;\n    }\n\n    .dataframe thead th {\n        text-align: right;\n    }\n</style>\n<table border=\"1\" class=\"dataframe\">\n  <thead>\n    <tr style=\"text-align: right;\">\n      <th></th>\n      <th>movieId</th>\n      <th>userId</th>\n      <th>rating</th>\n      <th>title</th>\n    </tr>\n  </thead>\n  <tbody>\n    <tr>\n      <th>0</th>\n      <td>862</td>\n      <td>1923</td>\n      <td>3.0</td>\n      <td>Toy Story</td>\n    </tr>\n    <tr>\n      <th>1</th>\n      <td>862</td>\n      <td>2103</td>\n      <td>5.0</td>\n      <td>Toy Story</td>\n    </tr>\n    <tr>\n      <th>2</th>\n      <td>862</td>\n      <td>5380</td>\n      <td>1.0</td>\n      <td>Toy Story</td>\n    </tr>\n    <tr>\n      <th>3</th>\n      <td>862</td>\n      <td>6177</td>\n      <td>4.0</td>\n      <td>Toy Story</td>\n    </tr>\n    <tr>\n      <th>4</th>\n      <td>862</td>\n      <td>6525</td>\n      <td>4.0</td>\n      <td>Toy Story</td>\n    </tr>\n    <tr>\n      <th>...</th>\n      <td>...</td>\n      <td>...</td>\n      <td>...</td>\n      <td>...</td>\n    </tr>\n    <tr>\n      <th>10933455</th>\n      <td>111109</td>\n      <td>33940</td>\n      <td>2.5</td>\n      <td>Century of Birthing</td>\n    </tr>\n    <tr>\n      <th>10933456</th>\n      <td>111109</td>\n      <td>172224</td>\n      <td>3.0</td>\n      <td>Century of Birthing</td>\n    </tr>\n    <tr>\n      <th>10933457</th>\n      <td>111109</td>\n      <td>210792</td>\n      <td>3.0</td>\n      <td>Century of Birthing</td>\n    </tr>\n    <tr>\n      <th>10933458</th>\n      <td>111109</td>\n      <td>225396</td>\n      <td>3.5</td>\n      <td>Century of Birthing</td>\n    </tr>\n    <tr>\n      <th>10933459</th>\n      <td>111109</td>\n      <td>269593</td>\n      <td>0.5</td>\n      <td>Century of Birthing</td>\n    </tr>\n  </tbody>\n</table>\n<p>10933460 rows × 4 columns</p>\n</div>"
     },
     "execution_count": 6,
     "metadata": {},
     "output_type": "execute_result"
    }
   ],
   "source": [
    "movies = movies.rename(columns={\"id\": \"movieId\"})\n",
    "movies"
   ],
   "metadata": {
    "collapsed": false,
    "pycharm": {
     "name": "#%%\n"
    }
   }
  },
  {
   "cell_type": "raw",
   "source": [
    "Due to the arbitrary distribution of id for each movies, we should convert\n",
    "all moviesId to sequences of Id from 1 to N"
   ],
   "metadata": {
    "collapsed": false,
    "pycharm": {
     "name": "#%% raw\n"
    }
   }
  },
  {
   "cell_type": "code",
   "source": [
    "labelEncoder = LabelEncoder()\n",
    "movies['movieId'] = labelEncoder.fit_transform(movies['movieId'])\n",
    "movies.head()"
   ],
   "metadata": {
    "collapsed": false,
    "pycharm": {
     "name": "#%%\n"
    }
   },
   "execution_count": 7,
   "outputs": [
    {
     "data": {
      "text/plain": "   movieId  userId  rating      title\n0      668    1923     3.0  Toy Story\n1      668    2103     5.0  Toy Story\n2      668    5380     1.0  Toy Story\n3      668    6177     4.0  Toy Story\n4      668    6525     4.0  Toy Story",
      "text/html": "<div>\n<style scoped>\n    .dataframe tbody tr th:only-of-type {\n        vertical-align: middle;\n    }\n\n    .dataframe tbody tr th {\n        vertical-align: top;\n    }\n\n    .dataframe thead th {\n        text-align: right;\n    }\n</style>\n<table border=\"1\" class=\"dataframe\">\n  <thead>\n    <tr style=\"text-align: right;\">\n      <th></th>\n      <th>movieId</th>\n      <th>userId</th>\n      <th>rating</th>\n      <th>title</th>\n    </tr>\n  </thead>\n  <tbody>\n    <tr>\n      <th>0</th>\n      <td>668</td>\n      <td>1923</td>\n      <td>3.0</td>\n      <td>Toy Story</td>\n    </tr>\n    <tr>\n      <th>1</th>\n      <td>668</td>\n      <td>2103</td>\n      <td>5.0</td>\n      <td>Toy Story</td>\n    </tr>\n    <tr>\n      <th>2</th>\n      <td>668</td>\n      <td>5380</td>\n      <td>1.0</td>\n      <td>Toy Story</td>\n    </tr>\n    <tr>\n      <th>3</th>\n      <td>668</td>\n      <td>6177</td>\n      <td>4.0</td>\n      <td>Toy Story</td>\n    </tr>\n    <tr>\n      <th>4</th>\n      <td>668</td>\n      <td>6525</td>\n      <td>4.0</td>\n      <td>Toy Story</td>\n    </tr>\n  </tbody>\n</table>\n</div>"
     },
     "execution_count": 7,
     "metadata": {},
     "output_type": "execute_result"
    }
   ]
  },
  {
   "cell_type": "raw",
   "source": [
    "First we can see that the number of votes for each userId shows that most of users only see less than 100 movies and rate them."
   ],
   "metadata": {
    "collapsed": false,
    "pycharm": {
     "name": "#%% raw\n"
    }
   }
  },
  {
   "cell_type": "code",
   "execution_count": 8,
   "outputs": [
    {
     "data": {
      "text/plain": "<AxesSubplot:>"
     },
     "execution_count": 8,
     "metadata": {},
     "output_type": "execute_result"
    },
    {
     "data": {
      "text/plain": "<Figure size 432x288 with 1 Axes>",
      "image/png": "[encoded data removed]"
     },
     "metadata": {
      "needs_background": "light"
     },
     "output_type": "display_data"
    }
   ],
   "source": [
    "    ratings_per_user = movies.groupby('userId')['rating'].count()\n",
    "    ratings_per_user.hist(bins=20, range=(0,500))"
   ],
   "metadata": {
    "collapsed": false,
    "pycharm": {
     "name": "#%%\n"
    }
   }
  },
  {
   "cell_type": "markdown",
   "source": [
    "To verify, the average number of rating per users will be approximately 42 ratings"
   ],
   "metadata": {
    "collapsed": false
   }
  },
  {
   "cell_type": "code",
   "execution_count": 9,
   "outputs": [
    {
     "data": {
      "text/plain": "41.18715578358912"
     },
     "execution_count": 9,
     "metadata": {},
     "output_type": "execute_result"
    }
   ],
   "source": [
    "statistics.mean(ratings_per_user.tolist())"
   ],
   "metadata": {
    "collapsed": false,
    "pycharm": {
     "name": "#%%\n"
    }
   }
  },
  {
   "cell_type": "code",
   "execution_count": 10,
   "outputs": [
    {
     "data": {
      "text/plain": "<AxesSubplot:>"
     },
     "execution_count": 10,
     "metadata": {},
     "output_type": "execute_result"
    },
    {
     "data": {
      "text/plain": "<Figure size 432x288 with 1 Axes>",
      "image/png": "[encoded data removed]"
     },
     "metadata": {
      "needs_background": "light"
     },
     "output_type": "display_data"
    }
   ],
   "source": [
    "ratings_per_movies = movies.groupby('movieId')['rating'].count()\n",
    "ratings_per_movies.hist(bins=20, range=(0,10000))"
   ],
   "metadata": {
    "collapsed": false,
    "pycharm": {
     "name": "#%%\n"
    }
   }
  },
  {
   "cell_type": "code",
   "execution_count": 11,
   "outputs": [
    {
     "data": {
      "text/plain": "1917.4780778674149"
     },
     "execution_count": 11,
     "metadata": {},
     "output_type": "execute_result"
    }
   ],
   "source": [
    "statistics.mean(ratings_per_movies.tolist())"
   ],
   "metadata": {
    "collapsed": false,
    "pycharm": {
     "name": "#%%\n"
    }
   }
  },
  {
   "cell_type": "markdown",
   "source": [
    "In user-based collaborative filtering, vectors representing users are essentially lists of the ratings they’ve given. So the more anime in our universe, the more dimensionality per user\n",
    "That's why we should reduce dimensions by removing redundant users and movies"
   ],
   "metadata": {
    "collapsed": false
   }
  },
  {
   "cell_type": "code",
   "execution_count": 12,
   "outputs": [],
   "source": [
    "ratings_per_movies_df = pd.DataFrame(ratings_per_movies)\n",
    "#Remove all movies which have less than 2000 ratings\n",
    "cleaned_ratings_per_movies_df = ratings_per_movies_df[ratings_per_movies_df.rating >= 1000]\n",
    "popular_movies = cleaned_ratings_per_movies_df.index.tolist()"
   ],
   "metadata": {
    "collapsed": false,
    "pycharm": {
     "name": "#%%\n"
    }
   }
  },
  {
   "cell_type": "code",
   "execution_count": 13,
   "outputs": [],
   "source": [
    "ratings_per_user_df = pd.DataFrame(ratings_per_user)\n",
    "#Remove all users which have voted less than 50 ratings\n",
    "cleaned_ratings_per_movies_df = ratings_per_movies_df[ratings_per_movies_df.rating >= 20]\n",
    "moviesholic_users = cleaned_ratings_per_movies_df.index.tolist()"
   ],
   "metadata": {
    "collapsed": false,
    "pycharm": {
     "name": "#%%\n"
    }
   }
  },
  {
   "cell_type": "code",
   "execution_count": 14,
   "outputs": [
    {
     "data": {
      "text/plain": "          movieId  userId  rating                       title\n497           742     174     4.0                        Heat\n498           742     346     4.0                        Heat\n499           742     362     4.0                        Heat\n500           742     384     4.0                        Heat\n501           742     463     2.0                        Heat\n...           ...     ...     ...                         ...\n10926693     1669    4433     4.0  Frankenstein Created Woman\n10926696     1669    4578     4.0  Frankenstein Created Woman\n10926698     1669    4831     2.0  Frankenstein Created Woman\n10926702     1669    4996     3.0  Frankenstein Created Woman\n10926704     1669    5102     3.0  Frankenstein Created Woman\n\n[152474 rows x 4 columns]",
      "text/html": "<div>\n<style scoped>\n    .dataframe tbody tr th:only-of-type {\n        vertical-align: middle;\n    }\n\n    .dataframe tbody tr th {\n        vertical-align: top;\n    }\n\n    .dataframe thead th {\n        text-align: right;\n    }\n</style>\n<table border=\"1\" class=\"dataframe\">\n  <thead>\n    <tr style=\"text-align: right;\">\n      <th></th>\n      <th>movieId</th>\n      <th>userId</th>\n      <th>rating</th>\n      <th>title</th>\n    </tr>\n  </thead>\n  <tbody>\n    <tr>\n      <th>497</th>\n      <td>742</td>\n      <td>174</td>\n      <td>4.0</td>\n      <td>Heat</td>\n    </tr>\n    <tr>\n      <th>498</th>\n      <td>742</td>\n      <td>346</td>\n      <td>4.0</td>\n      <td>Heat</td>\n    </tr>\n    <tr>\n      <th>499</th>\n      <td>742</td>\n      <td>362</td>\n      <td>4.0</td>\n      <td>Heat</td>\n    </tr>\n    <tr>\n      <th>500</th>\n      <td>742</td>\n      <td>384</td>\n      <td>4.0</td>\n      <td>Heat</td>\n    </tr>\n    <tr>\n      <th>501</th>\n      <td>742</td>\n      <td>463</td>\n      <td>2.0</td>\n      <td>Heat</td>\n    </tr>\n    <tr>\n      <th>...</th>\n      <td>...</td>\n      <td>...</td>\n      <td>...</td>\n      <td>...</td>\n    </tr>\n    <tr>\n      <th>10926693</th>\n      <td>1669</td>\n      <td>4433</td>\n      <td>4.0</td>\n      <td>Frankenstein Created Woman</td>\n    </tr>\n    <tr>\n      <th>10926696</th>\n      <td>1669</td>\n      <td>4578</td>\n      <td>4.0</td>\n      <td>Frankenstein Created Woman</td>\n    </tr>\n    <tr>\n      <th>10926698</th>\n      <td>1669</td>\n      <td>4831</td>\n      <td>2.0</td>\n      <td>Frankenstein Created Woman</td>\n    </tr>\n    <tr>\n      <th>10926702</th>\n      <td>1669</td>\n      <td>4996</td>\n      <td>3.0</td>\n      <td>Frankenstein Created Woman</td>\n    </tr>\n    <tr>\n      <th>10926704</th>\n      <td>1669</td>\n      <td>5102</td>\n      <td>3.0</td>\n      <td>Frankenstein Created Woman</td>\n    </tr>\n  </tbody>\n</table>\n<p>152474 rows × 4 columns</p>\n</div>"
     },
     "execution_count": 14,
     "metadata": {},
     "output_type": "execute_result"
    }
   ],
   "source": [
    "filtered_ratings = movies[movies.userId.isin(moviesholic_users)]\n",
    "filtered_ratings = filtered_ratings[filtered_ratings.movieId.isin(popular_movies)]\n",
    "filtered_ratings"
   ],
   "metadata": {
    "collapsed": false,
    "pycharm": {
     "name": "#%%\n"
    }
   }
  },
  {
   "cell_type": "code",
   "execution_count": 16,
   "outputs": [
    {
     "data": {
      "text/plain": "152474"
     },
     "execution_count": 16,
     "metadata": {},
     "output_type": "execute_result"
    }
   ],
   "source": [
    "len(filtered_ratings)"
   ],
   "metadata": {
    "collapsed": false,
    "pycharm": {
     "name": "#%%\n"
    }
   }
  },
  {
   "cell_type": "code",
   "execution_count": 17,
   "outputs": [
    {
     "data": {
      "text/plain": "movieId  0     1     2     3     4     5     6     7     8     9     ...  \\\nuserId                                                               ...   \n1         0.0   0.0   0.0   0.0   0.0   0.0   0.0   0.0   0.0   0.0  ...   \n2         0.0   0.0   3.0   0.0   0.0   0.0   0.0   0.0   0.0   0.0  ...   \n3         0.0   0.0   0.0   0.0   0.0   0.0   0.0   0.0   0.0   0.0  ...   \n4         0.0   0.0   0.0   0.0   0.0   0.0   0.0   0.0   0.0   0.0  ...   \n5         0.0   0.0   0.0   0.0   0.0   0.0   0.0   0.0   0.0   0.0  ...   \n...       ...   ...   ...   ...   ...   ...   ...   ...   ...   ...  ...   \n5625      0.0   0.0   0.0   3.0   0.0   0.0   0.0   0.0   0.0   0.0  ...   \n5627      0.0   0.0   0.0   0.0   0.0   0.0   0.0   0.0   0.0   0.0  ...   \n5632      0.0   0.0   5.0   0.0   4.0   0.0   0.0   4.0   0.0   0.0  ...   \n5657      0.0   0.0   0.0   0.0   0.0   0.0   0.0   0.0   0.0   0.0  ...   \n5685      0.0   0.0   0.0   0.0   0.0   0.0   0.0   0.0   0.0   0.0  ...   \n\nmovieId  4678  4753  4758  4819  4939  5036  5106  5204  5278  5585  \nuserId                                                               \n1         0.0   0.0   0.0   0.0   0.0   0.0   0.0   0.0   0.0   0.0  \n2         0.0   0.0   0.0   0.0   0.0   0.0   0.0   0.0   0.0   0.0  \n3         0.0   0.0   0.0   0.0   0.0   0.0   0.0   0.0   0.0   0.0  \n4         0.0   0.0   0.0   0.0   0.0   0.0   0.0   0.0   0.0   0.0  \n5         0.0   0.0   0.0   0.0   0.0   0.0   0.0   0.0   0.0   0.0  \n...       ...   ...   ...   ...   ...   ...   ...   ...   ...   ...  \n5625      0.0   0.0   0.0   0.0   0.0   0.0   0.0   0.0   0.0   0.0  \n5627      0.0   0.0   0.0   0.0   0.0   0.0   0.0   0.0   0.0   0.0  \n5632      0.0   0.0   0.0   0.0   0.0   0.0   0.0   0.0   0.0   0.0  \n5657      0.0   0.0   0.0   0.0   0.0   0.0   0.0   0.0   0.0   0.0  \n5685      0.0   0.0   0.0   0.0   0.0   0.0   0.0   0.0   0.0   0.0  \n\n[3868 rows x 1321 columns]",
      "text/html": "<div>\n<style scoped>\n    .dataframe tbody tr th:only-of-type {\n        vertical-align: middle;\n    }\n\n    .dataframe tbody tr th {\n        vertical-align: top;\n    }\n\n    .dataframe thead th {\n        text-align: right;\n    }\n</style>\n<table border=\"1\" class=\"dataframe\">\n  <thead>\n    <tr style=\"text-align: right;\">\n      <th>movieId</th>\n      <th>0</th>\n      <th>1</th>\n      <th>2</th>\n      <th>3</th>\n      <th>4</th>\n      <th>5</th>\n      <th>6</th>\n      <th>7</th>\n      <th>8</th>\n      <th>9</th>\n      <th>...</th>\n      <th>4678</th>\n      <th>4753</th>\n      <th>4758</th>\n      <th>4819</th>\n      <th>4939</th>\n      <th>5036</th>\n      <th>5106</th>\n      <th>5204</th>\n      <th>5278</th>\n      <th>5585</th>\n    </tr>\n    <tr>\n      <th>userId</th>\n      <th></th>\n      <th></th>\n      <th></th>\n      <th></th>\n      <th></th>\n      <th></th>\n      <th></th>\n      <th></th>\n      <th></th>\n      <th></th>\n      <th></th>\n      <th></th>\n      <th></th>\n      <th></th>\n      <th></th>\n      <th></th>\n      <th></th>\n      <th></th>\n      <th></th>\n      <th></th>\n      <th></th>\n    </tr>\n  </thead>\n  <tbody>\n    <tr>\n      <th>1</th>\n      <td>0.0</td>\n      <td>0.0</td>\n      <td>0.0</td>\n      <td>0.0</td>\n      <td>0.0</td>\n      <td>0.0</td>\n      <td>0.0</td>\n      <td>0.0</td>\n      <td>0.0</td>\n      <td>0.0</td>\n      <td>...</td>\n      <td>0.0</td>\n      <td>0.0</td>\n      <td>0.0</td>\n      <td>0.0</td>\n      <td>0.0</td>\n      <td>0.0</td>\n      <td>0.0</td>\n      <td>0.0</td>\n      <td>0.0</td>\n      <td>0.0</td>\n    </tr>\n    <tr>\n      <th>2</th>\n      <td>0.0</td>\n      <td>0.0</td>\n      <td>3.0</td>\n      <td>0.0</td>\n      <td>0.0</td>\n      <td>0.0</td>\n      <td>0.0</td>\n      <td>0.0</td>\n      <td>0.0</td>\n      <td>0.0</td>\n      <td>...</td>\n      <td>0.0</td>\n      <td>0.0</td>\n      <td>0.0</td>\n      <td>0.0</td>\n      <td>0.0</td>\n      <td>0.0</td>\n      <td>0.0</td>\n      <td>0.0</td>\n      <td>0.0</td>\n      <td>0.0</td>\n    </tr>\n    <tr>\n      <th>3</th>\n      <td>0.0</td>\n      <td>0.0</td>\n      <td>0.0</td>\n      <td>0.0</td>\n      <td>0.0</td>\n      <td>0.0</td>\n      <td>0.0</td>\n      <td>0.0</td>\n      <td>0.0</td>\n      <td>0.0</td>\n      <td>...</td>\n      <td>0.0</td>\n      <td>0.0</td>\n      <td>0.0</td>\n      <td>0.0</td>\n      <td>0.0</td>\n      <td>0.0</td>\n      <td>0.0</td>\n      <td>0.0</td>\n      <td>0.0</td>\n      <td>0.0</td>\n    </tr>\n    <tr>\n      <th>4</th>\n      <td>0.0</td>\n      <td>0.0</td>\n      <td>0.0</td>\n      <td>0.0</td>\n      <td>0.0</td>\n      <td>0.0</td>\n      <td>0.0</td>\n      <td>0.0</td>\n      <td>0.0</td>\n      <td>0.0</td>\n      <td>...</td>\n      <td>0.0</td>\n      <td>0.0</td>\n      <td>0.0</td>\n      <td>0.0</td>\n      <td>0.0</td>\n      <td>0.0</td>\n      <td>0.0</td>\n      <td>0.0</td>\n      <td>0.0</td>\n      <td>0.0</td>\n    </tr>\n    <tr>\n      <th>5</th>\n      <td>0.0</td>\n      <td>0.0</td>\n      <td>0.0</td>\n      <td>0.0</td>\n      <td>0.0</td>\n      <td>0.0</td>\n      <td>0.0</td>\n      <td>0.0</td>\n      <td>0.0</td>\n      <td>0.0</td>\n      <td>...</td>\n      <td>0.0</td>\n      <td>0.0</td>\n      <td>0.0</td>\n      <td>0.0</td>\n      <td>0.0</td>\n      <td>0.0</td>\n      <td>0.0</td>\n      <td>0.0</td>\n      <td>0.0</td>\n      <td>0.0</td>\n    </tr>\n    <tr>\n      <th>...</th>\n      <td>...</td>\n      <td>...</td>\n      <td>...</td>\n      <td>...</td>\n      <td>...</td>\n      <td>...</td>\n      <td>...</td>\n      <td>...</td>\n      <td>...</td>\n      <td>...</td>\n      <td>...</td>\n      <td>...</td>\n      <td>...</td>\n      <td>...</td>\n      <td>...</td>\n      <td>...</td>\n      <td>...</td>\n      <td>...</td>\n      <td>...</td>\n      <td>...</td>\n      <td>...</td>\n    </tr>\n    <tr>\n      <th>5625</th>\n      <td>0.0</td>\n      <td>0.0</td>\n      <td>0.0</td>\n      <td>3.0</td>\n      <td>0.0</td>\n      <td>0.0</td>\n      <td>0.0</td>\n      <td>0.0</td>\n      <td>0.0</td>\n      <td>0.0</td>\n      <td>...</td>\n      <td>0.0</td>\n      <td>0.0</td>\n      <td>0.0</td>\n      <td>0.0</td>\n      <td>0.0</td>\n      <td>0.0</td>\n      <td>0.0</td>\n      <td>0.0</td>\n      <td>0.0</td>\n      <td>0.0</td>\n    </tr>\n    <tr>\n      <th>5627</th>\n      <td>0.0</td>\n      <td>0.0</td>\n      <td>0.0</td>\n      <td>0.0</td>\n      <td>0.0</td>\n      <td>0.0</td>\n      <td>0.0</td>\n      <td>0.0</td>\n      <td>0.0</td>\n      <td>0.0</td>\n      <td>...</td>\n      <td>0.0</td>\n      <td>0.0</td>\n      <td>0.0</td>\n      <td>0.0</td>\n      <td>0.0</td>\n      <td>0.0</td>\n      <td>0.0</td>\n      <td>0.0</td>\n      <td>0.0</td>\n      <td>0.0</td>\n    </tr>\n    <tr>\n      <th>5632</th>\n      <td>0.0</td>\n      <td>0.0</td>\n      <td>5.0</td>\n      <td>0.0</td>\n      <td>4.0</td>\n      <td>0.0</td>\n      <td>0.0</td>\n      <td>4.0</td>\n      <td>0.0</td>\n      <td>0.0</td>\n      <td>...</td>\n      <td>0.0</td>\n      <td>0.0</td>\n      <td>0.0</td>\n      <td>0.0</td>\n      <td>0.0</td>\n      <td>0.0</td>\n      <td>0.0</td>\n      <td>0.0</td>\n      <td>0.0</td>\n      <td>0.0</td>\n    </tr>\n    <tr>\n      <th>5657</th>\n      <td>0.0</td>\n      <td>0.0</td>\n      <td>0.0</td>\n      <td>0.0</td>\n      <td>0.0</td>\n      <td>0.0</td>\n      <td>0.0</td>\n      <td>0.0</td>\n      <td>0.0</td>\n      <td>0.0</td>\n      <td>...</td>\n      <td>0.0</td>\n      <td>0.0</td>\n      <td>0.0</td>\n      <td>0.0</td>\n      <td>0.0</td>\n      <td>0.0</td>\n      <td>0.0</td>\n      <td>0.0</td>\n      <td>0.0</td>\n      <td>0.0</td>\n    </tr>\n    <tr>\n      <th>5685</th>\n      <td>0.0</td>\n      <td>0.0</td>\n      <td>0.0</td>\n      <td>0.0</td>\n      <td>0.0</td>\n      <td>0.0</td>\n      <td>0.0</td>\n      <td>0.0</td>\n      <td>0.0</td>\n      <td>0.0</td>\n      <td>...</td>\n      <td>0.0</td>\n      <td>0.0</td>\n      <td>0.0</td>\n      <td>0.0</td>\n      <td>0.0</td>\n      <td>0.0</td>\n      <td>0.0</td>\n      <td>0.0</td>\n      <td>0.0</td>\n      <td>0.0</td>\n    </tr>\n  </tbody>\n</table>\n<p>3868 rows × 1321 columns</p>\n</div>"
     },
     "execution_count": 17,
     "metadata": {},
     "output_type": "execute_result"
    }
   ],
   "source": [
    "rating_matrix = filtered_ratings.pivot_table(index='userId', columns='movieId', values='rating')\n",
    "# replace NaN values with 0\n",
    "rating_matrix = rating_matrix.fillna(0)\n",
    "# display the top few rows\n",
    "rating_matrix"
   ],
   "metadata": {
    "collapsed": false,
    "pycharm": {
     "name": "#%%\n"
    }
   }
  },
  {
   "cell_type": "code",
   "execution_count": 18,
   "outputs": [
    {
     "ename": "KeyError",
     "evalue": "False",
     "output_type": "error",
     "traceback": [
      "\u001B[1;31m---------------------------------------------------------------------------\u001B[0m",
      "\u001B[1;31mKeyError\u001B[0m                                  Traceback (most recent call last)",
      "\u001B[1;32m~\\AppData\\Local\\Programs\\Python\\Python39\\lib\\site-packages\\pandas\\core\\indexes\\base.py\u001B[0m in \u001B[0;36mget_loc\u001B[1;34m(self, key, method, tolerance)\u001B[0m\n\u001B[0;32m   3079\u001B[0m             \u001B[1;32mtry\u001B[0m\u001B[1;33m:\u001B[0m\u001B[1;33m\u001B[0m\u001B[1;33m\u001B[0m\u001B[0m\n\u001B[1;32m-> 3080\u001B[1;33m                 \u001B[1;32mreturn\u001B[0m \u001B[0mself\u001B[0m\u001B[1;33m.\u001B[0m\u001B[0m_engine\u001B[0m\u001B[1;33m.\u001B[0m\u001B[0mget_loc\u001B[0m\u001B[1;33m(\u001B[0m\u001B[0mcasted_key\u001B[0m\u001B[1;33m)\u001B[0m\u001B[1;33m\u001B[0m\u001B[1;33m\u001B[0m\u001B[0m\n\u001B[0m\u001B[0;32m   3081\u001B[0m             \u001B[1;32mexcept\u001B[0m \u001B[0mKeyError\u001B[0m \u001B[1;32mas\u001B[0m \u001B[0merr\u001B[0m\u001B[1;33m:\u001B[0m\u001B[1;33m\u001B[0m\u001B[1;33m\u001B[0m\u001B[0m\n",
      "\u001B[1;32mpandas\\_libs\\index.pyx\u001B[0m in \u001B[0;36mpandas._libs.index.IndexEngine.get_loc\u001B[1;34m()\u001B[0m\n",
      "\u001B[1;32mpandas\\_libs\\index.pyx\u001B[0m in \u001B[0;36mpandas._libs.index.IndexEngine.get_loc\u001B[1;34m()\u001B[0m\n",
      "\u001B[1;32mpandas\\_libs\\hashtable_class_helper.pxi\u001B[0m in \u001B[0;36mpandas._libs.hashtable.PyObjectHashTable.get_item\u001B[1;34m()\u001B[0m\n",
      "\u001B[1;32mpandas\\_libs\\hashtable_class_helper.pxi\u001B[0m in \u001B[0;36mpandas._libs.hashtable.PyObjectHashTable.get_item\u001B[1;34m()\u001B[0m\n",
      "\u001B[1;31mKeyError\u001B[0m: False",
      "\nThe above exception was the direct cause of the following exception:\n",
      "\u001B[1;31mKeyError\u001B[0m                                  Traceback (most recent call last)",
      "\u001B[1;32m~\\AppData\\Local\\Temp/ipykernel_11304/1295142403.py\u001B[0m in \u001B[0;36m<module>\u001B[1;34m\u001B[0m\n\u001B[1;32m----> 1\u001B[1;33m \u001B[0mfiltered_ratings\u001B[0m\u001B[1;33m[\u001B[0m\u001B[1;34m'movieId'\u001B[0m \u001B[1;33m==\u001B[0m \u001B[1;36m2\u001B[0m\u001B[1;33m]\u001B[0m\u001B[1;33m\u001B[0m\u001B[1;33m\u001B[0m\u001B[0m\n\u001B[0m",
      "\u001B[1;32m~\\AppData\\Local\\Programs\\Python\\Python39\\lib\\site-packages\\pandas\\core\\frame.py\u001B[0m in \u001B[0;36m__getitem__\u001B[1;34m(self, key)\u001B[0m\n\u001B[0;32m   3022\u001B[0m             \u001B[1;32mif\u001B[0m \u001B[0mself\u001B[0m\u001B[1;33m.\u001B[0m\u001B[0mcolumns\u001B[0m\u001B[1;33m.\u001B[0m\u001B[0mnlevels\u001B[0m \u001B[1;33m>\u001B[0m \u001B[1;36m1\u001B[0m\u001B[1;33m:\u001B[0m\u001B[1;33m\u001B[0m\u001B[1;33m\u001B[0m\u001B[0m\n\u001B[0;32m   3023\u001B[0m                 \u001B[1;32mreturn\u001B[0m \u001B[0mself\u001B[0m\u001B[1;33m.\u001B[0m\u001B[0m_getitem_multilevel\u001B[0m\u001B[1;33m(\u001B[0m\u001B[0mkey\u001B[0m\u001B[1;33m)\u001B[0m\u001B[1;33m\u001B[0m\u001B[1;33m\u001B[0m\u001B[0m\n\u001B[1;32m-> 3024\u001B[1;33m             \u001B[0mindexer\u001B[0m \u001B[1;33m=\u001B[0m \u001B[0mself\u001B[0m\u001B[1;33m.\u001B[0m\u001B[0mcolumns\u001B[0m\u001B[1;33m.\u001B[0m\u001B[0mget_loc\u001B[0m\u001B[1;33m(\u001B[0m\u001B[0mkey\u001B[0m\u001B[1;33m)\u001B[0m\u001B[1;33m\u001B[0m\u001B[1;33m\u001B[0m\u001B[0m\n\u001B[0m\u001B[0;32m   3025\u001B[0m             \u001B[1;32mif\u001B[0m \u001B[0mis_integer\u001B[0m\u001B[1;33m(\u001B[0m\u001B[0mindexer\u001B[0m\u001B[1;33m)\u001B[0m\u001B[1;33m:\u001B[0m\u001B[1;33m\u001B[0m\u001B[1;33m\u001B[0m\u001B[0m\n\u001B[0;32m   3026\u001B[0m                 \u001B[0mindexer\u001B[0m \u001B[1;33m=\u001B[0m \u001B[1;33m[\u001B[0m\u001B[0mindexer\u001B[0m\u001B[1;33m]\u001B[0m\u001B[1;33m\u001B[0m\u001B[1;33m\u001B[0m\u001B[0m\n",
      "\u001B[1;32m~\\AppData\\Local\\Programs\\Python\\Python39\\lib\\site-packages\\pandas\\core\\indexes\\base.py\u001B[0m in \u001B[0;36mget_loc\u001B[1;34m(self, key, method, tolerance)\u001B[0m\n\u001B[0;32m   3080\u001B[0m                 \u001B[1;32mreturn\u001B[0m \u001B[0mself\u001B[0m\u001B[1;33m.\u001B[0m\u001B[0m_engine\u001B[0m\u001B[1;33m.\u001B[0m\u001B[0mget_loc\u001B[0m\u001B[1;33m(\u001B[0m\u001B[0mcasted_key\u001B[0m\u001B[1;33m)\u001B[0m\u001B[1;33m\u001B[0m\u001B[1;33m\u001B[0m\u001B[0m\n\u001B[0;32m   3081\u001B[0m             \u001B[1;32mexcept\u001B[0m \u001B[0mKeyError\u001B[0m \u001B[1;32mas\u001B[0m \u001B[0merr\u001B[0m\u001B[1;33m:\u001B[0m\u001B[1;33m\u001B[0m\u001B[1;33m\u001B[0m\u001B[0m\n\u001B[1;32m-> 3082\u001B[1;33m                 \u001B[1;32mraise\u001B[0m \u001B[0mKeyError\u001B[0m\u001B[1;33m(\u001B[0m\u001B[0mkey\u001B[0m\u001B[1;33m)\u001B[0m \u001B[1;32mfrom\u001B[0m \u001B[0merr\u001B[0m\u001B[1;33m\u001B[0m\u001B[1;33m\u001B[0m\u001B[0m\n\u001B[0m\u001B[0;32m   3083\u001B[0m \u001B[1;33m\u001B[0m\u001B[0m\n\u001B[0;32m   3084\u001B[0m         \u001B[1;32mif\u001B[0m \u001B[0mtolerance\u001B[0m \u001B[1;32mis\u001B[0m \u001B[1;32mnot\u001B[0m \u001B[1;32mNone\u001B[0m\u001B[1;33m:\u001B[0m\u001B[1;33m\u001B[0m\u001B[1;33m\u001B[0m\u001B[0m\n",
      "\u001B[1;31mKeyError\u001B[0m: False"
     ]
    }
   ],
   "source": [
    "filtered_ratings['movieId' == 2]"
   ],
   "metadata": {
    "collapsed": false,
    "pycharm": {
     "name": "#%%\n"
    }
   }
  },
  {
   "cell_type": "code",
   "execution_count": null,
   "outputs": [],
   "source": [
    "for movieId in rating_matrix[2].index:\n",
    "    if rating_matrix[2][movieId] != 0:\n",
    "        if movieId in rating_matrix[5625].index:\n",
    "            print(movieId)"
   ],
   "metadata": {
    "collapsed": false,
    "pycharm": {
     "name": "#%%\n"
    }
   }
  },
  {
   "cell_type": "code",
   "execution_count": null,
   "outputs": [],
   "source": [
    "def pearson_correlation(first_user, second_user):\n",
    "    both_rated = {}\n",
    "    for movieId in rating_matrix[second_user].index:\n",
    "        if rating_matrix[second_user][movieId] != 0:\n",
    "            if rating_matrix[first_user][movieId] != 0:\n",
    "                    both_rated[movieId] = True\n",
    "\n",
    "    mutual_ratings = len(both_rated)\n",
    "    #We should check if the user do have anything in common. If not, return 0.\n",
    "    if mutual_ratings == 0:\n",
    "        return 0\n",
    "\n",
    "    #Calculating the sum of all ratings of each user\n",
    "    first_user_ratings_sum = sum([rating_matrix[first_user][movieId] for movieId in both_rated])\n",
    "    second_user_ratings_sum = sum([rating_matrix[second_user][movieId] for movieId in both_rated])\n",
    "\n",
    "    #Calculate the sum of squares of ratings for each user\n",
    "    first_user_squared_ratings_sum = sum([rating_matrix[first_user][movieId] ** 2 for movieId in both_rated])\n",
    "    second_user_squared_ratings_sum = sum([rating_matrix[second_user][movieId]**2 for movieId in both_rated])\n",
    "\n",
    "    #Calculate the product value of both ratings of each item\n",
    "    product_ratings_both_users = sum([rating_matrix[first_user][movieId] * rating_matrix[second_user][movieId] for movieId in both_rated])\n",
    "\n",
    "    #Calculate the pearson score\n",
    "    denominator = sqrt(((first_user_squared_ratings_sum - first_user_ratings_sum**2)/mutual_ratings) *\n",
    "                       ((second_user_squared_ratings_sum - second_user_ratings_sum **2)/mutual_ratings))\n",
    "    #Check if the denominator of Pearson correlation equation is zero. If true, return 0.\n",
    "    if denominator == 0:\n",
    "        return 0\n",
    "    numerator = product_ratings_both_users - (first_user_ratings_sum * second_user_ratings_sum / mutual_ratings)\n",
    "    return numerator/denominator\n",
    "\n",
    "# pearson_correlation(2, 5625)"
   ],
   "metadata": {
    "collapsed": false,
    "pycharm": {
     "name": "#%%\n"
    }
   }
  },
  {
   "cell_type": "code",
   "execution_count": null,
   "outputs": [],
   "source": [
    "def get_k_similar_users(target_user, k):\n",
    "    # Used list comprehension for finding pearson similarity between users\n",
    "    scores = [(pearson_correlation(target_user,other_person),other_person) for other_person in rating_matrix.columns if other_person != target_user]\n",
    "\n",
    "    #sort the scores in descending order\n",
    "    scores.sort(reverse=True)\n",
    "\n",
    "    #return the scores between the target person & other persons\n",
    "    return scores[0:k]"
   ],
   "metadata": {
    "collapsed": false,
    "pycharm": {
     "name": "#%%\n"
    }
   }
  },
  {
   "cell_type": "code",
   "execution_count": null,
   "outputs": [],
   "source": [
    "def calculate_average(user):\n",
    "    return statistics.mean(rating_matrix[user])\n",
    "\n",
    "average_ratings = {}\n",
    "for user in rating_matrix.columns:\n",
    "    average_ratings[user] = calculate_average(user)"
   ],
   "metadata": {
    "collapsed": false,
    "pycharm": {
     "name": "#%%\n"
    }
   }
  },
  {
   "cell_type": "code",
   "execution_count": null,
   "outputs": [],
   "source": [
    "def calculate_movie_score(user, item, k_nearest_neighbors):\n",
    "    if not len(k_nearest_neighbors):\n",
    "        return item, 0.0\n",
    "    top_result = 0.0\n",
    "    bottom_result = 0.0\n",
    "    for neighbor in k_nearest_neighbors:\n",
    "        neighbor_id = neighbor[1]\n",
    "        neighbor_similarity = neighbor[0]   # Wi1\n",
    "        rating = rating_matrix[neighbor_id][item] # rating i,item\n",
    "        top_result += neighbor_similarity * (float(rating) - average_ratings[neighbor_id])\n",
    "        bottom_result += neighbor_similarity\n",
    "    if bottom_result == 0.0 :\n",
    "        return item, 0.0\n",
    "    result = average_ratings[user] + top_result/bottom_result\n",
    "    return item, result"
   ],
   "metadata": {
    "collapsed": false,
    "pycharm": {
     "name": "#%%\n"
    }
   }
  },
  {
   "cell_type": "code",
   "execution_count": null,
   "outputs": [],
   "source": [
    "def recommendator_model(user, k=3):\n",
    "    # This method will obtain k movies that user has not seen before based on User-based CF.\n",
    "    k_nearest_neighbors = get_k_similar_users(user, 20)\n",
    "    result = []\n",
    "    for movie in rating_matrix.index:\n",
    "        if rating_matrix[user][movie] == 0:\n",
    "            movie, score = calculate_movie_score(user, movie, k_nearest_neighbors)\n",
    "            result.append((score, movie))\n",
    "    result = sorted(result, key=lambda result: (result[0], result[1]), reverse=True)\n",
    "    titles = movies[['movieId', 'title']].drop_duplicates(keep='first')\n",
    "    final_result = []\n",
    "    for item in result:\n",
    "        title = titles[titles['movieId'] == item[1]]['title'][titles.index[titles[\"movieId\"] == item[1]].tolist()[0]]\n",
    "        final_result.append((item[0], item[1], title))\n",
    "    return final_result[:k]"
   ],
   "metadata": {
    "collapsed": false,
    "pycharm": {
     "name": "#%%\n"
    }
   }
  },
  {
   "cell_type": "code",
   "execution_count": 340,
   "outputs": [
    {
     "name": "stdout",
     "output_type": "stream",
     "text": [
      "Movie titleOrgy of the Dead---->1.152922865006468\n",
      "\n",
      "Movie titleBarton Fink---->0.8897842411867473\n",
      "\n",
      "Movie titleOutside the Law---->0.8876644326723391\n",
      "\n",
      "Movie titleBordertown---->0.8344169595639983\n",
      "\n",
      "Movie titleFear and Loathing in Las Vegas---->0.8059664150697575\n",
      "\n",
      "Movie title¡Three Amigos!---->0.8055874461968074\n",
      "\n",
      "Movie titleIndecent Proposal---->0.7950293564595383\n",
      "\n",
      "Movie titleThe Bride Goes Wild---->0.7845842898012189\n",
      "\n",
      "Movie titleThe Atomic States Of America---->0.7812831608597198\n",
      "\n",
      "Movie titleEternal Sunshine of the Spotless Mind---->0.7732070404928991\n",
      "\n"
     ]
    }
   ],
   "source": [
    "recs = recommendator_model(user=1, k=10)\n",
    "for rec in recs:\n",
    "    print('Movie title: ' + rec[2] + '---->' + str(rec[0]) + '\\n')"
   ],
   "metadata": {
    "collapsed": false,
    "pycharm": {
     "name": "#%%\n"
    }
   }
  },
  {
   "cell_type": "code",
   "execution_count": 315,
   "outputs": [
    {
     "data": {
      "text/plain": "          movieId  userId  rating                       title\n497           742     174     4.0                        Heat\n498           742     346     4.0                        Heat\n499           742     362     4.0                        Heat\n500           742     384     4.0                        Heat\n501           742     463     2.0                        Heat\n...           ...     ...     ...                         ...\n10926693     1669    4433     4.0  Frankenstein Created Woman\n10926696     1669    4578     4.0  Frankenstein Created Woman\n10926698     1669    4831     2.0  Frankenstein Created Woman\n10926702     1669    4996     3.0  Frankenstein Created Woman\n10926704     1669    5102     3.0  Frankenstein Created Woman\n\n[152474 rows x 4 columns]",
      "text/html": "<div>\n<style scoped>\n    .dataframe tbody tr th:only-of-type {\n        vertical-align: middle;\n    }\n\n    .dataframe tbody tr th {\n        vertical-align: top;\n    }\n\n    .dataframe thead th {\n        text-align: right;\n    }\n</style>\n<table border=\"1\" class=\"dataframe\">\n  <thead>\n    <tr style=\"text-align: right;\">\n      <th></th>\n      <th>movieId</th>\n      <th>userId</th>\n      <th>rating</th>\n      <th>title</th>\n    </tr>\n  </thead>\n  <tbody>\n    <tr>\n      <th>497</th>\n      <td>742</td>\n      <td>174</td>\n      <td>4.0</td>\n      <td>Heat</td>\n    </tr>\n    <tr>\n      <th>498</th>\n      <td>742</td>\n      <td>346</td>\n      <td>4.0</td>\n      <td>Heat</td>\n    </tr>\n    <tr>\n      <th>499</th>\n      <td>742</td>\n      <td>362</td>\n      <td>4.0</td>\n      <td>Heat</td>\n    </tr>\n    <tr>\n      <th>500</th>\n      <td>742</td>\n      <td>384</td>\n      <td>4.0</td>\n      <td>Heat</td>\n    </tr>\n    <tr>\n      <th>501</th>\n      <td>742</td>\n      <td>463</td>\n      <td>2.0</td>\n      <td>Heat</td>\n    </tr>\n    <tr>\n      <th>...</th>\n      <td>...</td>\n      <td>...</td>\n      <td>...</td>\n      <td>...</td>\n    </tr>\n    <tr>\n      <th>10926693</th>\n      <td>1669</td>\n      <td>4433</td>\n      <td>4.0</td>\n      <td>Frankenstein Created Woman</td>\n    </tr>\n    <tr>\n      <th>10926696</th>\n      <td>1669</td>\n      <td>4578</td>\n      <td>4.0</td>\n      <td>Frankenstein Created Woman</td>\n    </tr>\n    <tr>\n      <th>10926698</th>\n      <td>1669</td>\n      <td>4831</td>\n      <td>2.0</td>\n      <td>Frankenstein Created Woman</td>\n    </tr>\n    <tr>\n      <th>10926702</th>\n      <td>1669</td>\n      <td>4996</td>\n      <td>3.0</td>\n      <td>Frankenstein Created Woman</td>\n    </tr>\n    <tr>\n      <th>10926704</th>\n      <td>1669</td>\n      <td>5102</td>\n      <td>3.0</td>\n      <td>Frankenstein Created Woman</td>\n    </tr>\n  </tbody>\n</table>\n<p>152474 rows × 4 columns</p>\n</div>"
     },
     "execution_count": 315,
     "metadata": {},
     "output_type": "execute_result"
    }
   ],
   "source": [
    "filtered_ratings"
   ],
   "metadata": {
    "collapsed": false,
    "pycharm": {
     "name": "#%%\n"
    }
   }
  },
  {
   "cell_type": "code",
   "execution_count": null,
   "outputs": [],
   "source": [],
   "metadata": {
    "collapsed": false,
    "pycharm": {
     "name": "#%%\n"
    }
   }
  }
 ],
 "metadata": {
  "kernelspec": {
   "display_name": "Python 3",
   "language": "python",
   "name": "python3"
  },
  "language_info": {
   "codemirror_mode": {
    "name": "ipython",
    "version": 2
   },
   "file_extension": ".py",
   "mimetype": "text/x-python",
   "name": "python",
   "nbconvert_exporter": "python",
   "pygments_lexer": "ipython2",
   "version": "2.7.6"
  }
 },
 "nbformat": 4,
 "nbformat_minor": 0
}